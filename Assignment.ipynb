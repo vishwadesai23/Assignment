{
 "cells": [
  {
   "cell_type": "code",
   "execution_count": 5,
   "metadata": {},
   "outputs": [
    {
     "name": "stdout",
     "output_type": "stream",
     "text": [
      "Your Maths marks are:  78\n",
      "Your Chemistry marks are:  98\n",
      "Your Physics marks are:  78\n",
      "Your Biology marks are:  78\n",
      "Your English marks are:  99\n",
      "Your percentage is:  86.2 %\n",
      "Your grade is Distinguished.\n"
     ]
    }
   ],
   "source": [
    "#To accept the student's grade in 5 subjects- Maths, Chemistry, Physics, Biology, English and create percentage\n",
    "\n",
    "math_marks = int(input(\"Enter your Maths Marks out of 100: \"))\n",
    "chem_marks = int(input(\"Enter your Chemistry Marks out of 100: \"))\n",
    "phy_marks = int(input(\"Enter your Physics Marks out of 100: \"))\n",
    "bio_marks = int(input(\"Enter your Biology Marks out of 100: \"))\n",
    "eng_marks = int(input(\"Enter your English Marks out of 100: \"))\n",
    "\n",
    "aggregate_marks = ((math_marks + chem_marks + phy_marks + bio_marks + eng_marks) / 500)\n",
    "stud_percentage = aggregate_marks * 100\n",
    "\n",
    "print(\"Your Maths marks are: \", math_marks)\n",
    "print(\"Your Chemistry marks are: \", chem_marks)\n",
    "print(\"Your Physics marks are: \", phy_marks)\n",
    "print(\"Your Biology marks are: \", bio_marks)\n",
    "print(\"Your English marks are: \", eng_marks)\n",
    "print(\"Your percentage is: \", round(stud_percentage,2), \"%\")\n",
    "\n",
    "\n",
    " \n",
    "if stud_percentage >= 75:\n",
    "    print(\"Your grade is Distinguished.\")\n",
    "elif stud_percentage >= 60 and stud_percentage < 75:\n",
    "    print(\"Your grade is First Division.\")\n",
    "elif stud_percentage >= 50 and stud_percentage < 60:\n",
    "    print(\"Your grade is Second Division.\")\n",
    "elif stud_percentage >= 40 and stud_percentage < 50:\n",
    "    print(\"Your grade is Third Division.\")\n",
    "elif stud_percentage > 40:\n",
    "    print(\"Pass\")\n",
    "else:\n",
    "    print(\"Fail\")\n"
   ]
  },
  {
   "cell_type": "code",
   "execution_count": 23,
   "metadata": {},
   "outputs": [
    {
     "name": "stdout",
     "output_type": "stream",
     "text": [
      "371 is an armstrong number.\n"
     ]
    }
   ],
   "source": [
    "#to check if a number is armstrong number or not\n",
    "num = int(input(\"Enter an integer: \"))\n",
    "sum = 0\n",
    "temp = num\n",
    "\n",
    "while temp > 0:\n",
    "    digit = temp % 10\n",
    "    sum += digit ** 3\n",
    "    temp //= 10\n",
    "\n",
    "\n",
    "if num == sum:\n",
    "    print(num,\"is an armstrong number.\")\n",
    "else:\n",
    "    print(num,\"is not an armstrong number.\")\n"
   ]
  },
  {
   "cell_type": "code",
   "execution_count": 32,
   "metadata": {},
   "outputs": [
    {
     "name": "stdout",
     "output_type": "stream",
     "text": [
      "The addition of the 2 numbers is:  7\n",
      "The subtraction of the 2 numbers is:  3\n",
      "The product of the 2 numbers is:  10\n",
      "The quotient of the 2 numbers is:  2\n",
      "The remainder of the 2 numbers is:  1\n",
      "The factorial of the number is:  120\n"
     ]
    }
   ],
   "source": [
    "#To create a calc that can do + , -, *, %, //, xy, x!\n",
    "n1 = int(input(\"Enter the first number: \"))\n",
    "n2 = int(input(\"Enter the second number: \"))\n",
    "\n",
    "add = n1 + n2\n",
    "sub = n1 - n2\n",
    "mult = n1 * n2\n",
    "div = n1 // n2\n",
    "rem = n1 % n2\n",
    "factorial = 1\n",
    "if n1 >= 1:\n",
    "    for i in range (1, n1 + 1):\n",
    "        factorial=factorial *i\n",
    "\n",
    "print(\"The addition of the 2 numbers is: \", add)\n",
    "print(\"The subtraction of the 2 numbers is: \", sub)\n",
    "print(\"The product of the 2 numbers is: \", mult)\n",
    "print(\"The quotient of the 2 numbers is: \", div)\n",
    "print(\"The remainder of the 2 numbers is: \", rem)\n",
    "print(\"The factorial of the number is: \", factorial)\n"
   ]
  },
  {
   "cell_type": "code",
   "execution_count": 36,
   "metadata": {},
   "outputs": [
    {
     "name": "stdout",
     "output_type": "stream",
     "text": [
      "The square root of the number is:  2.0\n",
      "The square of the number is:  16\n",
      "The cube of the number is:  64\n",
      "4 is not a prime number\n",
      "The factorial of the number is:  24\n"
     ]
    }
   ],
   "source": [
    "\n",
    "num = int(input(\"Enter any number: \"))\n",
    "\n",
    "square_root = num ** 0.5\n",
    "print(\"The square root of the number is: \", square_root)\n",
    "square = num ** 2\n",
    "print(\"The square of the number is: \", square)\n",
    "cube = num ** 3\n",
    "print(\"The cube of the number is: \", cube)\n",
    "prime_no = 0 + num\n",
    "if prime_no > 1:\n",
    "    for i in range(2, int(prime_no / 2)+1):\n",
    "        if (prime_no % i) == 0:\n",
    "            print(prime_no, \"is not a prime number\")\n",
    "            break\n",
    "    else:\n",
    "        print(prime_no, \"is a prime number\")\n",
    "else:\n",
    "    print(prime_no, \"is not a prime number\")\n",
    "\n",
    "factorial = 1\n",
    "if num >= 1:\n",
    "    for i in range (1, num + 1):\n",
    "        factorial=factorial *i\n",
    "\n",
    "print(\"The factorial of the number is: \", factorial)\n",
    "\n",
    "\n"
   ]
  },
  {
   "cell_type": "code",
   "execution_count": 63,
   "metadata": {},
   "outputs": [
    {
     "name": "stdout",
     "output_type": "stream",
     "text": [
      "***  \n",
      "***  \n",
      "***  \n"
     ]
    }
   ],
   "source": [
    "for i in range(3):\n",
    "          i = \"*\"\n",
    "          print(i * 3, \" \")\n",
    "          "
   ]
  },
  {
   "cell_type": "code",
   "execution_count": 143,
   "metadata": {},
   "outputs": [
    {
     "name": "stdout",
     "output_type": "stream",
     "text": [
      " \n",
      "*  \n",
      "* *  \n",
      "* * *  \n",
      "* * * *  \n",
      "* * * * *  \n",
      "* * * * * *  \n"
     ]
    }
   ],
   "source": [
    "for i in range(0,7):\n",
    "    print(i * \"* \", end = \" \")\n",
    "    print()\n",
    "    "
   ]
  },
  {
   "cell_type": "code",
   "execution_count": 185,
   "metadata": {},
   "outputs": [
    {
     "name": "stdout",
     "output_type": "stream",
     "text": [
      "1\n",
      "12\n",
      "123\n",
      "1234\n",
      "12345\n"
     ]
    }
   ],
   "source": [
    "n = 0\n",
    "for i in range(1,6):\n",
    "    n *= 10\n",
    "    n += i\n",
    "    print(n)"
   ]
  },
  {
   "cell_type": "code",
   "execution_count": null,
   "metadata": {},
   "outputs": [],
   "source": []
  }
 ],
 "metadata": {
  "kernelspec": {
   "display_name": "Python 3",
   "language": "python",
   "name": "python3"
  },
  "language_info": {
   "codemirror_mode": {
    "name": "ipython",
    "version": 3
   },
   "file_extension": ".py",
   "mimetype": "text/x-python",
   "name": "python",
   "nbconvert_exporter": "python",
   "pygments_lexer": "ipython3",
   "version": "3.11.5"
  },
  "orig_nbformat": 4
 },
 "nbformat": 4,
 "nbformat_minor": 2
}
